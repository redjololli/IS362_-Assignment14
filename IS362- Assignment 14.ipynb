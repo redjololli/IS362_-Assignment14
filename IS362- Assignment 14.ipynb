{
 "cells": [
  {
   "cell_type": "markdown",
   "metadata": {},
   "source": [
    "### Your task is to analyze an existing recommender system that you find interesting.  \n",
    "You should:\n",
    "- Perform a Scenario Design analysis as described below.  Consider whether it makes sense for your selected recommender system to perform scenario design twice, once for the organization (e.g. Amazon.com) and once for the organization's customers.\n",
    "- Attempt to reverse engineer what you can about the site, from the site interface and any available information that you can find on the Internet or elsewhere.\n",
    "- Include specific recommendations about how to improve the site's recommendation capabilities going forward. \n",
    "- Create your report using a Jupyter notebook, and create a discussion thread with a link to the GitHub repo where your Jupyter Notebook resides.  You are not expected to need to write code for this discussion assignment.\n"
   ]
  },
  {
   "cell_type": "markdown",
   "metadata": {},
   "source": [
    "### Recommender Systems\n",
    "#### Scenario Design Analysis for ShopGoodWill. https://www.shopgoodwill.com/#"
   ]
  },
  {
   "cell_type": "markdown",
   "metadata": {},
   "source": [
    "The web site I picked to analyze is ShopGoodWill, online buying and selling web site to find that special item you have been looking for. Shopgoodwill.com offers a wide array of antiques and collectibles as well as new and nearly new items. Shopgoodwill.com is the first e-commerce auction platform created, owned, and operated by a nonprofit organization. The site was designed to provide an engaging online shopping destination that would further the Goodwill mission of putting people to work. Today, more than 110 Goodwill organizations from across the country list and auction unique items on the site, including art, antiques, collectibles, apparel, jewelry, electronics and more. All revenue from these auction sales fund Goodwill’s life-changing programs and services for people with disabilities and other barriers. More than $515 million in online sales have been generated on shopgoodwill.com since its launch in 1999. After carefully reviewing ShopGoodWill, I found that ShopGoodWill uses New Today, Last Chance, ending today, and “Buy It Now” system. However, I notice that ShopGoodWill does not use collaborative filtering, featured deals, most viewed items, Goodwill recommendations, most purchased and current fast bidding items recommenders’ systems which will encourage users to click on the deal and bid."
   ]
  },
  {
   "cell_type": "markdown",
   "metadata": {},
   "source": [
    "### Who are your target users?\n",
    "- In a tough economy, that Goodwill stores are attracting shopper at all levels trade down. Even middle-class consumers now “look for extreme values,” including at secondhand stores.\n"
   ]
  },
  {
   "cell_type": "markdown",
   "metadata": {},
   "source": [
    "### What are their key goals?\n",
    "- Goodwill stores goals are to attract the shoppers who scour high-end resale shops and department store sales racks for bargains.\n"
   ]
  },
  {
   "cell_type": "markdown",
   "metadata": {},
   "source": [
    "### How can you help them accomplish those goals?\n",
    "- To accomplish this goal, I would recomment they hire a project manager, business analysts, developers, and software quality assurance.\n",
    "##### Mostly viewed items \n",
    "- SQL data analysis and gather what other users looking at mostly and which items are getting viewed most and we will recommend those items to the users.\n",
    "###### Mostly purchased  \n",
    "- SQL data analysis and gather a data of what customers mostly purchasing in current month/week and we'll recommend customers the mostly purchased items.\n",
    "##### Currently fast bidding \n",
    "- SQL data analysis will be used and find out what items age at this point in time getting most bids and recommend this items to the users.\"\n"
   ]
  }
 ],
 "metadata": {
  "kernelspec": {
   "display_name": "Python 3",
   "language": "python",
   "name": "python3"
  },
  "language_info": {
   "codemirror_mode": {
    "name": "ipython",
    "version": 3
   },
   "file_extension": ".py",
   "mimetype": "text/x-python",
   "name": "python",
   "nbconvert_exporter": "python",
   "pygments_lexer": "ipython3",
   "version": "3.8.3"
  }
 },
 "nbformat": 4,
 "nbformat_minor": 4
}
